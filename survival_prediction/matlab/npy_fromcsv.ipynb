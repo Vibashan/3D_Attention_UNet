{
 "cells": [
  {
   "cell_type": "code",
   "execution_count": 2,
   "metadata": {},
   "outputs": [],
   "source": [
    "import numpy as np\n",
    "from glob import glob\n",
    "import itertools\n",
    "import os\n",
    "\n",
    "files=sorted(glob(\"/home/navodini/Documents/NUS/Brats19/Feature_Extraction/test_features/*.txt\"))\n",
    "\n",
    "i=0\n",
    "for path in itertools.islice(files,7):\n",
    "    \n",
    "    with open(path,'r') as fdata:\n",
    "        if i==0:\n",
    "            arr=np.loadtxt(fdata,delimiter=\",\")\n",
    "        else:\n",
    "            arr=np.append(arr,np.loadtxt(fdata,delimiter=\",\"),axis=1)\n",
    "        i=i+1\n",
    "np.savetxt('/home/navodini/Documents/NUS/Brats19/Feature_Extraction/test_brats.csv',arr)"
   ]
  },
  {
   "cell_type": "code",
   "execution_count": 8,
   "metadata": {},
   "outputs": [
    {
     "name": "stdout",
     "output_type": "stream",
     "text": [
      "(203, 76)\n"
     ]
    }
   ],
   "source": [
    "print(arr.shape)"
   ]
  },
  {
   "cell_type": "code",
   "execution_count": 9,
   "metadata": {},
   "outputs": [
    {
     "name": "stdout",
     "output_type": "stream",
     "text": [
      "['/home/navodini/Documents/NUS/Brats19/Feature_Extraction/train_features/fractal_nec.txt', '/home/navodini/Documents/NUS/Brats19/Feature_Extraction/train_features/fractal_tc.txt', '/home/navodini/Documents/NUS/Brats19/Feature_Extraction/train_features/geometry_nec.txt', '/home/navodini/Documents/NUS/Brats19/Feature_Extraction/train_features/geometry_tc.txt', '/home/navodini/Documents/NUS/Brats19/Feature_Extraction/train_features/geometry_wt.txt', '/home/navodini/Documents/NUS/Brats19/Feature_Extraction/train_features/hist_enh.txt', '/home/navodini/Documents/NUS/Brats19/Feature_Extraction/train_features/hist_nec.txt']\n"
     ]
    }
   ],
   "source": [
    "print(files)"
   ]
  },
  {
   "cell_type": "code",
   "execution_count": null,
   "metadata": {},
   "outputs": [],
   "source": []
  }
 ],
 "metadata": {
  "kernelspec": {
   "display_name": "py3",
   "language": "python",
   "name": "py3"
  },
  "language_info": {
   "codemirror_mode": {
    "name": "ipython",
    "version": 3
   },
   "file_extension": ".py",
   "mimetype": "text/x-python",
   "name": "python",
   "nbconvert_exporter": "python",
   "pygments_lexer": "ipython3",
   "version": "3.5.2"
  }
 },
 "nbformat": 4,
 "nbformat_minor": 2
}
