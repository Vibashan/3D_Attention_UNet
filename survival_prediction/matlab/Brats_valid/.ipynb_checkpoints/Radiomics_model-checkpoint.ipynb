{
 "cells": [
  {
   "cell_type": "code",
   "execution_count": 1,
   "metadata": {},
   "outputs": [],
   "source": [
    "import os\n",
    "import numpy as np\n",
    "import pandas as pd \n",
    "from sklearn.preprocessing import StandardScaler\n",
    "\n",
    "dataset_radiomics = pd.read_csv('/home/navodini/Documents/NUS/Brats19/train_brats.csv',header=None,names = ['f1_nec','f2_nec','f3_nec','f4_nec','f5_nec','f1_tc','f2_tc','f3_tc','f4_tc','f5_tc','FirstAxis1_nec','FirstAxis2_nec','FirstAxis3_nec','SecondAxis1_nec','SecondAxis2_nec','SecondAxis3_nec','ThirdAxis1_nec','ThirdAxis2_nec','ThirdAxis3_nec','EigenValues1_nec','EigenValues2_nec','EigenValues3_nec','FirstAxisLength_nec','SecondAxisLength_nec','ThirdAxisLength_nec','Centroid1_nec','Centroid2_nec','Centroid3_nec','MeridionalEccentricity_nec','EquatorialEccentricity_nec','FirstAxis1_tc','FirstAxis2_tc','FirstAxis3_tc','SecondAxis1_tc','SecondAxis2_tc','SecondAxis3_tc','ThirdAxis1_tc','ThirdAxis2_tc','ThirdAxis3_tc','EigenValues1_tc','EigenValues2_tc','EigenValues3_tc','FirstAxisLength_tc','SecondAxisLength_tc','ThirdAxisLength_tc','Centroid1_tc','Centroid2_tc','Centroid3_tc','MeridionalEccentricity_tc','EquatorialEccentricity_tc','FirstAxis1_wt','FirstAxis2_wt','FirstAxis3_wt','SecondAxis1_wt','SecondAxis2_wt','SecondAxis3_wt','ThirdAxis1_wt','ThirdAxis2_wt','ThirdAxis3_wt','EigenValues1_wt','EigenValues2_wt','EigenValues3_wt','FirstAxisLength_wt','SecondAxisLength_wt','ThirdAxisLength_wt','Centroid1_wt','Centroid2_wt','Centroid3_wt','MeridionalEccentricity_wt','EquatorialEccentricity_wt','kurtosis_necrosis','entropy_necrosis','histogram_necrosis','entropy_enhancement','histogram_enhancement'])\n",
    "dataset_valid_radiomics = pd.read_csv('/home/navodini/Documents/NUS/Brats19/valid_brats.csv',header=None,names = ['f1_nec','f2_nec','f3_nec','f4_nec','f5_nec','f1_tc','f2_tc','f3_tc','f4_tc','f5_tc','FirstAxis1_nec','FirstAxis2_nec','FirstAxis3_nec','SecondAxis1_nec','SecondAxis2_nec','SecondAxis3_nec','ThirdAxis1_nec','ThirdAxis2_nec','ThirdAxis3_nec','EigenValues1_nec','EigenValues2_nec','EigenValues3_nec','FirstAxisLength_nec','SecondAxisLength_nec','ThirdAxisLength_nec','Centroid1_nec','Centroid2_nec','Centroid3_nec','MeridionalEccentricity_nec','EquatorialEccentricity_nec','FirstAxis1_tc','FirstAxis2_tc','FirstAxis3_tc','SecondAxis1_tc','SecondAxis2_tc','SecondAxis3_tc','ThirdAxis1_tc','ThirdAxis2_tc','ThirdAxis3_tc','EigenValues1_tc','EigenValues2_tc','EigenValues3_tc','FirstAxisLength_tc','SecondAxisLength_tc','ThirdAxisLength_tc','Centroid1_tc','Centroid2_tc','Centroid3_tc','MeridionalEccentricity_tc','EquatorialEccentricity_tc','FirstAxis1_wt','FirstAxis2_wt','FirstAxis3_wt','SecondAxis1_wt','SecondAxis2_wt','SecondAxis3_wt','ThirdAxis1_wt','ThirdAxis2_wt','ThirdAxis3_wt','EigenValues1_wt','EigenValues2_wt','EigenValues3_wt','FirstAxisLength_wt','SecondAxisLength_wt','ThirdAxisLength_wt','Centroid1_wt','Centroid2_wt','Centroid3_wt','MeridionalEccentricity_wt','EquatorialEccentricity_wt','kurtosis_necrosis','entropy_necrosis','histogram_necrosis','entropy_enhancement','histogram_enhancement'])\n",
    "\n",
    "dataset = pd.read_csv('/home/navodini/Documents/NUS/Brats19/train_OS.csv',header=None,names = ['Patient_ID','Age','Survival','class'])\n",
    "age = ((dataset['Age'].values)[1:]).astype('float').reshape(-1,1)\n",
    "radiomics = (dataset_radiomics[['f1_nec','f2_nec','f3_nec','f4_nec','f5_nec','f1_tc','f2_tc','f3_tc','f4_tc','f5_tc','FirstAxis1_nec','FirstAxis2_nec','FirstAxis3_nec','SecondAxis1_nec','SecondAxis2_nec','SecondAxis3_nec','ThirdAxis1_nec','ThirdAxis2_nec','ThirdAxis3_nec','EigenValues1_nec','EigenValues2_nec','EigenValues3_nec','FirstAxisLength_nec','SecondAxisLength_nec','ThirdAxisLength_nec','Centroid1_nec','Centroid2_nec','Centroid3_nec','MeridionalEccentricity_nec','EquatorialEccentricity_nec','FirstAxis1_tc','FirstAxis2_tc','FirstAxis3_tc','SecondAxis1_tc','SecondAxis2_tc','SecondAxis3_tc','ThirdAxis1_tc','ThirdAxis2_tc','ThirdAxis3_tc','EigenValues1_tc','EigenValues2_tc','EigenValues3_tc','FirstAxisLength_tc','SecondAxisLength_tc','ThirdAxisLength_tc','Centroid1_tc','Centroid2_tc','Centroid3_tc','MeridionalEccentricity_tc','EquatorialEccentricity_tc','FirstAxis1_wt','FirstAxis2_wt','FirstAxis3_wt','SecondAxis1_wt','SecondAxis2_wt','SecondAxis3_wt','ThirdAxis1_wt','ThirdAxis2_wt','ThirdAxis3_wt','EigenValues1_wt','EigenValues2_wt','EigenValues3_wt','FirstAxisLength_wt','SecondAxisLength_wt','ThirdAxisLength_wt','Centroid1_wt','Centroid2_wt','Centroid3_wt','MeridionalEccentricity_wt','EquatorialEccentricity_wt','kurtosis_necrosis','entropy_necrosis','histogram_necrosis','entropy_enhancement','histogram_enhancement']].values)[1:].astype('float')\n",
    "radiomics_valid = (dataset_valid_radiomics[['f1_nec','f2_nec','f3_nec','f4_nec','f5_nec','f1_tc','f2_tc','f3_tc','f4_tc','f5_tc','FirstAxis1_nec','FirstAxis2_nec','FirstAxis3_nec','SecondAxis1_nec','SecondAxis2_nec','SecondAxis3_nec','ThirdAxis1_nec','ThirdAxis2_nec','ThirdAxis3_nec','EigenValues1_nec','EigenValues2_nec','EigenValues3_nec','FirstAxisLength_nec','SecondAxisLength_nec','ThirdAxisLength_nec','Centroid1_nec','Centroid2_nec','Centroid3_nec','MeridionalEccentricity_nec','EquatorialEccentricity_nec','FirstAxis1_tc','FirstAxis2_tc','FirstAxis3_tc','SecondAxis1_tc','SecondAxis2_tc','SecondAxis3_tc','ThirdAxis1_tc','ThirdAxis2_tc','ThirdAxis3_tc','EigenValues1_tc','EigenValues2_tc','EigenValues3_tc','FirstAxisLength_tc','SecondAxisLength_tc','ThirdAxisLength_tc','Centroid1_tc','Centroid2_tc','Centroid3_tc','MeridionalEccentricity_tc','EquatorialEccentricity_tc','FirstAxis1_wt','FirstAxis2_wt','FirstAxis3_wt','SecondAxis1_wt','SecondAxis2_wt','SecondAxis3_wt','ThirdAxis1_wt','ThirdAxis2_wt','ThirdAxis3_wt','EigenValues1_wt','EigenValues2_wt','EigenValues3_wt','FirstAxisLength_wt','SecondAxisLength_wt','ThirdAxisLength_wt','Centroid1_wt','Centroid2_wt','Centroid3_wt','MeridionalEccentricity_wt','EquatorialEccentricity_wt','kurtosis_necrosis','entropy_necrosis','histogram_necrosis','entropy_enhancement','histogram_enhancement']].values)[1:].astype('float')\n",
    "\n",
    "OS = ((dataset['Survival'].values)[1:]).astype('float').reshape(-1,1)\n",
    "\n",
    "sc_X = StandardScaler()\n",
    "X = sc_X.fit_transform(radiomics)\n",
    "#X_test = sc_X.fit_transform(radiomics_valid)\n",
    "#X = np.append(age/100,X,axis=1)\n",
    "y = OS/1000"
   ]
  },
  {
   "cell_type": "code",
   "execution_count": 3,
   "metadata": {},
   "outputs": [
    {
     "name": "stdout",
     "output_type": "stream",
     "text": [
      "Accuracy: 47.62%\n"
     ]
    }
   ],
   "source": [
    "from numpy import loadtxt\n",
    "from xgboost import XGBRegressor\n",
    "from sklearn.model_selection import train_test_split\n",
    "from sklearn.metrics import accuracy_score\n",
    "\n",
    "def categorize(array):\n",
    "    new_array=np.zeros_like(array)\n",
    "    for i in range(0,array.shape[0]): \n",
    "        k=array[i]\n",
    "        #print(k)\n",
    "        if k>0.45:\n",
    "            new_array[i,:]=2\n",
    "        elif 0.3<k<0.45 :\n",
    "            new_array[i,:]=1\n",
    "        else: \n",
    "            new_array[i,:]=0\n",
    "    return new_array\n",
    "\n",
    "\n",
    "seed = 7\n",
    "test_size = 0.10\n",
    "X_train, X_test, y_train, y_test = train_test_split(X, y, test_size=test_size, random_state=seed)\n",
    "# fit model on training data\n",
    "model = XGBRegressor(max_depth=5, learning_rate=0.1, n_estimators=100, verbosity=1,gamma=0, min_child_weight=1, max_delta_step=0, subsample=0.8, colsample_bytree=0.8, scale_pos_weight=1, base_score=0.5, random_state=0,seed=27) \n",
    "model.fit(X_train, y_train)\n",
    "# make predictions for test data\n",
    "y_pred = model.predict(X_test)\n",
    "#print(y_pred.reshape(21,1))\n",
    "#print(y_test)\n",
    "predictions = categorize(y_pred.reshape(21,1))\n",
    "y_test_class = categorize(y_test)\n",
    "# evaluate predictions\n",
    "accuracy = accuracy_score(y_test_class, predictions)\n",
    "print(\"Accuracy: %.2f%%\" % (accuracy * 100.0))\n",
    "np.savetxt('/home/navodini/Documents/NUS/Brats19/predictions_new.csv',y_pred*1000)"
   ]
  },
  {
   "cell_type": "code",
   "execution_count": null,
   "metadata": {},
   "outputs": [],
   "source": []
  }
 ],
 "metadata": {
  "kernelspec": {
   "display_name": "py3",
   "language": "python",
   "name": "py3"
  },
  "language_info": {
   "codemirror_mode": {
    "name": "ipython",
    "version": 3
   },
   "file_extension": ".py",
   "mimetype": "text/x-python",
   "name": "python",
   "nbconvert_exporter": "python",
   "pygments_lexer": "ipython3",
   "version": "3.5.2"
  }
 },
 "nbformat": 4,
 "nbformat_minor": 2
}
