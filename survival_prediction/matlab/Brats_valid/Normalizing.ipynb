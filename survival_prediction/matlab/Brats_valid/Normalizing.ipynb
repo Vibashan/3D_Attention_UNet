{
 "cells": [
  {
   "cell_type": "code",
   "execution_count": 1,
   "metadata": {},
   "outputs": [
    {
     "name": "stderr",
     "output_type": "stream",
     "text": [
      "/home/navodini/py3_kernel/lib/python3.5/site-packages/sklearn/preprocessing/data.py:334: DataConversionWarning: Data with input dtype int64 were all converted to float64 by MinMaxScaler.\n",
      "  return self.partial_fit(X, y)\n",
      "/home/navodini/py3_kernel/lib/python3.5/site-packages/sklearn/preprocessing/data.py:334: DataConversionWarning: Data with input dtype int64 were all converted to float64 by MinMaxScaler.\n",
      "  return self.partial_fit(X, y)\n"
     ]
    }
   ],
   "source": [
    "from numpy import loadtxt\n",
    "from xgboost import XGBRegressor\n",
    "from sklearn.model_selection import train_test_split\n",
    "from sklearn.metrics import accuracy_score\n",
    "import os\n",
    "import numpy as np\n",
    "import pandas as pd \n",
    "from sklearn.preprocessing import StandardScaler, MinMaxScaler\n",
    "\n",
    "dataset_radiomics = pd.read_csv('/home/navodini/Documents/NUS/Brats19/Brats_valid/train_dataset_beforenormalizing.csv',header=None)\n",
    "dataset_valid_radiomics = pd.read_csv('/home/navodini/Documents/NUS/Brats19/Brats_valid/valid_dataset_beforenormalizing.csv',header=None)\n",
    "\n",
    "#dataset = pd.read_csv('/home/navodini/Documents/NUS/Brats19/train_OS.csv',header=None,names = ['Patient_ID','Age','Survival','class'])\n",
    "#age = ((dataset['Age'].values)[1:]).astype('float').reshape(-1,1)\n",
    "#radiomics = (dataset_radiomics[['f1_nec','f2_nec','f3_nec','f4_nec','f5_nec','f1_tc','f2_tc','f3_tc','f4_tc','f5_tc','FirstAxis1_nec','FirstAxis2_nec','FirstAxis3_nec','SecondAxis1_nec','SecondAxis2_nec','SecondAxis3_nec','ThirdAxis1_nec','ThirdAxis2_nec','ThirdAxis3_nec','EigenValues1_nec','EigenValues2_nec','EigenValues3_nec','FirstAxisLength_nec','SecondAxisLength_nec','ThirdAxisLength_nec','Centroid1_nec','Centroid2_nec','Centroid3_nec','MeridionalEccentricity_nec','EquatorialEccentricity_nec','FirstAxis1_tc','FirstAxis2_tc','FirstAxis3_tc','SecondAxis1_tc','SecondAxis2_tc','SecondAxis3_tc','ThirdAxis1_tc','ThirdAxis2_tc','ThirdAxis3_tc','EigenValues1_tc','EigenValues2_tc','EigenValues3_tc','FirstAxisLength_tc','SecondAxisLength_tc','ThirdAxisLength_tc','Centroid1_tc','Centroid2_tc','Centroid3_tc','MeridionalEccentricity_tc','EquatorialEccentricity_tc','FirstAxis1_wt','FirstAxis2_wt','FirstAxis3_wt','SecondAxis1_wt','SecondAxis2_wt','SecondAxis3_wt','ThirdAxis1_wt','ThirdAxis2_wt','ThirdAxis3_wt','EigenValues1_wt','EigenValues2_wt','EigenValues3_wt','FirstAxisLength_wt','SecondAxisLength_wt','ThirdAxisLength_wt','Centroid1_wt','Centroid2_wt','Centroid3_wt','MeridionalEccentricity_wt','EquatorialEccentricity_wt','kurtosis_necrosis','entropy_necrosis','histogram_necrosis','entropy_enhancement','histogram_enhancement','Age','Survival']])\n",
    "#radiomics_valid = (dataset_valid_radiomics[['Age','f1_nec','f2_nec','f3_nec','f4_nec','f5_nec','f1_tc','f2_tc','f3_tc','f4_tc','f5_tc','FirstAxis1_nec','FirstAxis2_nec','FirstAxis3_nec','SecondAxis1_nec','SecondAxis2_nec','SecondAxis3_nec','ThirdAxis1_nec','ThirdAxis2_nec','ThirdAxis3_nec','EigenValues1_nec','EigenValues2_nec','EigenValues3_nec','FirstAxisLength_nec','SecondAxisLength_nec','ThirdAxisLength_nec','Centroid1_nec','Centroid2_nec','Centroid3_nec','MeridionalEccentricity_nec','EquatorialEccentricity_nec','FirstAxis1_tc','FirstAxis2_tc','FirstAxis3_tc','SecondAxis1_tc','SecondAxis2_tc','SecondAxis3_tc','ThirdAxis1_tc','ThirdAxis2_tc','ThirdAxis3_tc','EigenValues1_tc','EigenValues2_tc','EigenValues3_tc','FirstAxisLength_tc','SecondAxisLength_tc','ThirdAxisLength_tc','Centroid1_tc','Centroid2_tc','Centroid3_tc','MeridionalEccentricity_tc','EquatorialEccentricity_tc','FirstAxis1_wt','FirstAxis2_wt','FirstAxis3_wt','SecondAxis1_wt','SecondAxis2_wt','SecondAxis3_wt','ThirdAxis1_wt','ThirdAxis2_wt','ThirdAxis3_wt','EigenValues1_wt','EigenValues2_wt','EigenValues3_wt','FirstAxisLength_wt','SecondAxisLength_wt','ThirdAxisLength_wt','Centroid1_wt','Centroid2_wt','Centroid3_wt','MeridionalEccentricity_wt','EquatorialEccentricity_wt','kurtosis_necrosis','entropy_necrosis','histogram_necrosis','entropy_enhancement','histogram_enhancement']])\n",
    "\n",
    "sc_X = MinMaxScaler()\n",
    "dataset_radiomics[dataset_radiomics.columns[:10]] = sc_X.fit_transform(dataset_radiomics[dataset_radiomics.columns[:10]])\n",
    "dataset_radiomics[dataset_radiomics.columns[19:28]] = sc_X.fit_transform(dataset_radiomics[dataset_radiomics.columns[19:28]])\n",
    "dataset_radiomics[dataset_radiomics.columns[39:48]] = sc_X.fit_transform(dataset_radiomics[dataset_radiomics.columns[39:48]])\n",
    "dataset_radiomics[dataset_radiomics.columns[59:68]] = sc_X.fit_transform(dataset_radiomics[dataset_radiomics.columns[59:68]])\n",
    "dataset_radiomics[dataset_radiomics.columns[70:72]] = sc_X.fit_transform(dataset_radiomics[dataset_radiomics.columns[70:72]])\n",
    "#dataset_radiomics[dataset_radiomics.columns[72]] = sc_X.fit_transform(dataset_radiomics[dataset_radiomics.columns[72]])\n",
    "dataset_radiomics[dataset_radiomics.columns[74:76]] = sc_X.fit_transform(dataset_radiomics[dataset_radiomics.columns[74:76]])\n",
    "dataset_radiomics[dataset_radiomics.columns[76]]=dataset_radiomics[dataset_radiomics.columns[76]]/1000\n",
    "#X_test = sc_X.fit_transform(dataset_valid_radiomics[:,1])\n",
    "# np.savetxt('/home/navodini/Documents/NUS/Brats19/Brats_valid/radiomics_normalized_SS.csv',X)\n",
    "# np.savetxt('/home/navodini/Documents/NUS/Brats19/Brats_valid/radiomics_valid_normalized_SS.csv',X_test)\n",
    "sc_X2 = MinMaxScaler()\n",
    "dataset_valid_radiomics[dataset_valid_radiomics.columns[:10]] = sc_X2.fit_transform(dataset_valid_radiomics[dataset_valid_radiomics.columns[:10]])\n",
    "dataset_valid_radiomics[dataset_valid_radiomics.columns[19:28]] = sc_X2.fit_transform(dataset_valid_radiomics[dataset_valid_radiomics.columns[19:28]])\n",
    "dataset_valid_radiomics[dataset_valid_radiomics.columns[39:48]] = sc_X2.fit_transform(dataset_valid_radiomics[dataset_valid_radiomics.columns[39:48]])\n",
    "dataset_valid_radiomics[dataset_valid_radiomics.columns[59:68]] = sc_X2.fit_transform(dataset_valid_radiomics[dataset_valid_radiomics.columns[59:68]])\n",
    "dataset_valid_radiomics[dataset_valid_radiomics.columns[70:72]] = sc_X2.fit_transform(dataset_valid_radiomics[dataset_valid_radiomics.columns[70:72]])\n",
    "#dataset_radiomics[dataset_radiomics.columns[72]] = sc_X.fit_transform(dataset_radiomics[dataset_radiomics.columns[72]])\n",
    "dataset_valid_radiomics[dataset_valid_radiomics.columns[74:76]] = sc_X2.fit_transform(dataset_valid_radiomics[dataset_valid_radiomics.columns[74:76]])\n",
    "\n",
    "np.savetxt('/home/navodini/Documents/NUS/Brats19/Brats_valid/radiomics_normalized_new.csv',dataset_radiomics)\n",
    "np.savetxt('/home/navodini/Documents/NUS/Brats19/Brats_valid/radiomics_valid_normalized_new.csv',dataset_valid_radiomics)"
   ]
  },
  {
   "cell_type": "code",
   "execution_count": null,
   "metadata": {},
   "outputs": [],
   "source": [
    "dataset_radiomics.shape"
   ]
  },
  {
   "cell_type": "code",
   "execution_count": null,
   "metadata": {},
   "outputs": [],
   "source": [
    "dataset_radiomics[dataset_radiomics.columns[:15]]"
   ]
  },
  {
   "cell_type": "code",
   "execution_count": 1,
   "metadata": {},
   "outputs": [
    {
     "name": "stderr",
     "output_type": "stream",
     "text": [
      "/home/navodini/py3_kernel/lib/python3.5/site-packages/sklearn/preprocessing/data.py:334: DataConversionWarning: Data with input dtype int64, float64 were all converted to float64 by MinMaxScaler.\n",
      "  return self.partial_fit(X, y)\n"
     ]
    }
   ],
   "source": [
    "from numpy import loadtxt\n",
    "from xgboost import XGBRegressor\n",
    "from sklearn.model_selection import train_test_split\n",
    "from sklearn.metrics import accuracy_score\n",
    "import os\n",
    "import numpy as np\n",
    "import pandas as pd \n",
    "from sklearn.preprocessing import StandardScaler, MinMaxScaler\n",
    "\n",
    "dataset_radiomics = pd.read_csv('/home/navodini/Documents/NUS/Brats19/Brats_valid/test_dataset_beforenormalizing.csv',header=None)\n",
    "#dataset_valid_radiomics = pd.read_csv('/home/navodini/Documents/NUS/Brats19/Brats_valid/valid_dataset_beforenormalizing.csv',header=None)\n",
    "\n",
    "sc_X = MinMaxScaler()\n",
    "dataset_radiomics = sc_X.fit_transform(dataset_radiomics)\n",
    "\n",
    "np.savetxt('/home/navodini/Documents/NUS/Brats19/Brats_valid/radiomics_test_normalized.csv',dataset_radiomics)"
   ]
  },
  {
   "cell_type": "code",
   "execution_count": null,
   "metadata": {},
   "outputs": [],
   "source": []
  }
 ],
 "metadata": {
  "kernelspec": {
   "display_name": "py3",
   "language": "python",
   "name": "py3"
  },
  "language_info": {
   "codemirror_mode": {
    "name": "ipython",
    "version": 3
   },
   "file_extension": ".py",
   "mimetype": "text/x-python",
   "name": "python",
   "nbconvert_exporter": "python",
   "pygments_lexer": "ipython3",
   "version": "3.5.2"
  }
 },
 "nbformat": 4,
 "nbformat_minor": 2
}
